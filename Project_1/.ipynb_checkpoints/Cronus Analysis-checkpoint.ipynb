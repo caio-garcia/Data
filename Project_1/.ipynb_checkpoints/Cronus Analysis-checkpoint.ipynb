{
 "cells": [
  {
   "cell_type": "code",
   "execution_count": 1,
   "metadata": {},
   "outputs": [],
   "source": [
    "#Importing packages\n",
    "\n",
    "%matplotlib inline\n",
    "import matplotlib.pyplot as plt\n",
    "import pandas as pd\n",
    "import seaborn as sns; sns.set()\n",
    "import numpy as np\n",
    "\n"
   ]
  },
  {
   "cell_type": "code",
   "execution_count": 2,
   "metadata": {},
   "outputs": [],
   "source": [
    "#Importing Data\n",
    "\n",
    "main_path = '~/Documents/Data Science/Projects/Project_1/data/'\n",
    "\n",
    "\n"
   ]
  },
  {
   "cell_type": "code",
   "execution_count": 3,
   "metadata": {},
   "outputs": [],
   "source": [
    "# Customers\n",
    "\n",
    "customers = pd.read_csv(main_path+'customer.csv', encoding = \"ISO-8859-1\")"
   ]
  },
  {
   "cell_type": "code",
   "execution_count": 4,
   "metadata": {},
   "outputs": [],
   "source": [
    "# Customer Ledger Entries\n",
    "\n",
    "cle = pd.read_csv(main_path+'Cust_ Led En.csv', encoding = \"ISO-8859-1\")"
   ]
  },
  {
   "cell_type": "code",
   "execution_count": null,
   "metadata": {},
   "outputs": [],
   "source": [
    "#G/L Accounts\n",
    "\n",
    "gl_acc = pd.read_csv(main_path+'G_L Accounts.csv', encoding = \"ISO-8859-1\")"
   ]
  },
  {
   "cell_type": "code",
   "execution_count": null,
   "metadata": {},
   "outputs": [],
   "source": [
    "# G/L Entries\n",
    "\n",
    "gl_entries = pd.read_csv(main_path+'G_L Entries.csv', encoding = \"ISO-8859-1\")"
   ]
  },
  {
   "cell_type": "code",
   "execution_count": null,
   "metadata": {},
   "outputs": [],
   "source": [
    "# G/L Budget Entries\n",
    "\n",
    "budget_entries = pd.read_csv(main_path+'GL Budget Entry.csv', encoding = \"ISO-8859-1\")"
   ]
  },
  {
   "cell_type": "code",
   "execution_count": null,
   "metadata": {},
   "outputs": [],
   "source": [
    "# Items\n",
    "\n",
    "items = pd.read_csv(main_path+'Item.csv', encoding = \"ISO-8859-1\")"
   ]
  },
  {
   "cell_type": "code",
   "execution_count": null,
   "metadata": {},
   "outputs": [],
   "source": [
    "# Item Ledger Entries\n",
    "\n",
    "ile = pd.read_csv(main_path+'Item Ledg Entry.csv', encoding = \"ISO-8859-1\")"
   ]
  },
  {
   "cell_type": "markdown",
   "metadata": {},
   "source": [
    "## Customer Analysis"
   ]
  },
  {
   "cell_type": "markdown",
   "metadata": {},
   "source": [
    "#### Customer data cleaning"
   ]
  },
  {
   "cell_type": "code",
   "execution_count": 5,
   "metadata": {},
   "outputs": [
    {
     "data": {
      "text/plain": [
       "(144, 77)"
      ]
     },
     "execution_count": 5,
     "metadata": {},
     "output_type": "execute_result"
    }
   ],
   "source": [
    "customers.shape"
   ]
  },
  {
   "cell_type": "code",
   "execution_count": 6,
   "metadata": {},
   "outputs": [
    {
     "name": "stdout",
     "output_type": "stream",
     "text": [
      "Name 2\n",
      "Address 2\n",
      "Phone No_\n",
      "Telex No_\n",
      "Our Account No_\n",
      "Project\n",
      "Chain Name\n",
      "Currency Code\n",
      "Customer Price Group\n",
      "Shipping Agent Code\n",
      "Place of Export\n",
      "Customer Disc_ Group\n",
      "Collection Method\n",
      "Bill-to Customer No_\n",
      "Payment Method Code\n",
      "Fax No_\n",
      "Telex Answer Back\n",
      "Picture\n",
      "County\n",
      "E-Mail\n",
      "Home Page\n",
      "No_ Series\n",
      "Tax Area Code\n",
      "IC Partner Code\n",
      "Primary Contact No_\n",
      "Responsibility Center\n",
      "Shipping Time\n",
      "Shipping Agent Service Code\n",
      "Base Calendar Code\n",
      "Type of Supply Code\n",
      "Cash Flow Payment Terms Code\n",
      "Preferred Bank Account\n"
     ]
    }
   ],
   "source": [
    "for c in customers.columns:\n",
    "    if customers.isnull().mean()[c] > 0.3:\n",
    "        customers.drop(columns=c,inplace=True)\n",
    "        print(c)"
   ]
  },
  {
   "cell_type": "code",
   "execution_count": 7,
   "metadata": {},
   "outputs": [
    {
     "data": {
      "text/plain": [
       "(144, 45)"
      ]
     },
     "execution_count": 7,
     "metadata": {},
     "output_type": "execute_result"
    }
   ],
   "source": [
    "customers.shape"
   ]
  },
  {
   "cell_type": "code",
   "execution_count": 8,
   "metadata": {},
   "outputs": [
    {
     "data": {
      "text/plain": [
       "timestamp                          object\n",
       "No_                                object\n",
       "Name                               object\n",
       "Search Name                        object\n",
       "Address                            object\n",
       "City                               object\n",
       "Contact                            object\n",
       "Territory Code                     object\n",
       "Department                         object\n",
       "Budgeted Amount                     int64\n",
       "Credit Limit (LCY)                float64\n",
       "Customer Posting Group             object\n",
       "Language Code                      object\n",
       "Statistics Group                    int64\n",
       "Payment Terms Code                 object\n",
       "Fin_ Charge Terms Code             object\n",
       "Salesperson Code                   object\n",
       "Shipment Method Code               object\n",
       "Invoice Disc_ Code                 object\n",
       "Country_Region Code                object\n",
       "Amount                              int64\n",
       "Blocked                             int64\n",
       "Invoice Copies                      int64\n",
       "Last Statement No_                  int64\n",
       "Print Statements                    int64\n",
       "Priority                            int64\n",
       "Last Date Modified                 object\n",
       "Application Method                  int64\n",
       "Prices Including VAT                int64\n",
       "Location Code                      object\n",
       "VAT Registration No_               object\n",
       "Combine Shipments                   int64\n",
       "Gen_ Bus_ Posting Group            object\n",
       "Post Code                          object\n",
       "Reminder Terms Code                object\n",
       "Tax Liable                          int64\n",
       "VAT Bus_ Posting Group             object\n",
       "Reserve                             int64\n",
       "Block Payment Tolerance             int64\n",
       "Prepayment _                        int64\n",
       "Shipping Advice                     int64\n",
       "Service Zone Code                  object\n",
       "Allow Line Disc_                    int64\n",
       "Copy Sell-to Addr_ to Qte From      int64\n",
       "Partner Type                        int64\n",
       "dtype: object"
      ]
     },
     "execution_count": 8,
     "metadata": {},
     "output_type": "execute_result"
    }
   ],
   "source": [
    "customers.dtypes"
   ]
  },
  {
   "cell_type": "code",
   "execution_count": null,
   "metadata": {},
   "outputs": [],
   "source": []
  },
  {
   "cell_type": "code",
   "execution_count": null,
   "metadata": {},
   "outputs": [],
   "source": []
  },
  {
   "cell_type": "code",
   "execution_count": null,
   "metadata": {},
   "outputs": [],
   "source": []
  }
 ],
 "metadata": {
  "kernelspec": {
   "display_name": "Python 3",
   "language": "python",
   "name": "python3"
  },
  "language_info": {
   "codemirror_mode": {
    "name": "ipython",
    "version": 3
   },
   "file_extension": ".py",
   "mimetype": "text/x-python",
   "name": "python",
   "nbconvert_exporter": "python",
   "pygments_lexer": "ipython3",
   "version": "3.7.4"
  }
 },
 "nbformat": 4,
 "nbformat_minor": 4
}
